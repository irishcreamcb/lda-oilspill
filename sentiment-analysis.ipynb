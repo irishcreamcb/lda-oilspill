{
 "cells": [
  {
   "cell_type": "code",
   "execution_count": null,
   "metadata": {},
   "outputs": [
    {
     "name": "stderr",
     "output_type": "stream",
     "text": [
      "[nltk_data] Downloading package vader_lexicon to\n",
      "[nltk_data]     C:\\Users\\Noah\\AppData\\Roaming\\nltk_data...\n",
      "[nltk_data]   Package vader_lexicon is already up-to-date!\n"
     ]
    }
   ],
   "source": [
    "# download VADER lexicon\n",
    "import pandas as pd\n",
    "import nltk\n",
    "from nltk.sentiment import SentimentIntensityAnalyzer\n",
    "nltk.download([\"vader_lexicon\"])\n",
    "\n",
    "# import and initialize our sentiment analyzer\n",
    "senti = SentimentIntensityAnalyzer()"
   ]
  },
  {
   "cell_type": "code",
   "execution_count": 15,
   "metadata": {},
   "outputs": [
    {
     "data": {
      "text/html": [
       "<div>\n",
       "<style scoped>\n",
       "    .dataframe tbody tr th:only-of-type {\n",
       "        vertical-align: middle;\n",
       "    }\n",
       "\n",
       "    .dataframe tbody tr th {\n",
       "        vertical-align: top;\n",
       "    }\n",
       "\n",
       "    .dataframe thead th {\n",
       "        text-align: right;\n",
       "    }\n",
       "</style>\n",
       "<table border=\"1\" class=\"dataframe\">\n",
       "  <thead>\n",
       "    <tr style=\"text-align: right;\">\n",
       "      <th></th>\n",
       "      <th>text</th>\n",
       "      <th>neg</th>\n",
       "      <th>neu</th>\n",
       "      <th>pos</th>\n",
       "      <th>compound</th>\n",
       "    </tr>\n",
       "  </thead>\n",
       "  <tbody>\n",
       "    <tr>\n",
       "      <th>0</th>\n",
       "      <td>MANILA, Philippines – Senator Cynthia Villar o...</td>\n",
       "      <td>0.164</td>\n",
       "      <td>0.761</td>\n",
       "      <td>0.075</td>\n",
       "      <td>-0.9941</td>\n",
       "    </tr>\n",
       "    <tr>\n",
       "      <th>1</th>\n",
       "      <td>BATAAN, Philippines – Residents of Gatchalian ...</td>\n",
       "      <td>0.125</td>\n",
       "      <td>0.791</td>\n",
       "      <td>0.084</td>\n",
       "      <td>-0.9827</td>\n",
       "    </tr>\n",
       "    <tr>\n",
       "      <th>2</th>\n",
       "      <td>MANILA, Philippines – The oil siphoning operat...</td>\n",
       "      <td>0.060</td>\n",
       "      <td>0.887</td>\n",
       "      <td>0.052</td>\n",
       "      <td>-0.4871</td>\n",
       "    </tr>\n",
       "    <tr>\n",
       "      <th>3</th>\n",
       "      <td>MANILA, Philippines – President Ferdinand Marc...</td>\n",
       "      <td>0.030</td>\n",
       "      <td>0.916</td>\n",
       "      <td>0.054</td>\n",
       "      <td>0.5719</td>\n",
       "    </tr>\n",
       "    <tr>\n",
       "      <th>4</th>\n",
       "      <td>MANILA, Philippines – A total of 161,612 liter...</td>\n",
       "      <td>0.015</td>\n",
       "      <td>0.956</td>\n",
       "      <td>0.029</td>\n",
       "      <td>0.2500</td>\n",
       "    </tr>\n",
       "  </tbody>\n",
       "</table>\n",
       "</div>"
      ],
      "text/plain": [
       "                                                text    neg    neu    pos  \\\n",
       "0  MANILA, Philippines – Senator Cynthia Villar o...  0.164  0.761  0.075   \n",
       "1  BATAAN, Philippines – Residents of Gatchalian ...  0.125  0.791  0.084   \n",
       "2  MANILA, Philippines – The oil siphoning operat...  0.060  0.887  0.052   \n",
       "3  MANILA, Philippines – President Ferdinand Marc...  0.030  0.916  0.054   \n",
       "4  MANILA, Philippines – A total of 161,612 liter...  0.015  0.956  0.029   \n",
       "\n",
       "   compound  \n",
       "0   -0.9941  \n",
       "1   -0.9827  \n",
       "2   -0.4871  \n",
       "3    0.5719  \n",
       "4    0.2500  "
      ]
     },
     "execution_count": 15,
     "metadata": {},
     "output_type": "execute_result"
    }
   ],
   "source": [
    "# Function to perform sentiment analysis\n",
    "def sentiment_analysis(dataframe, textcolumn='cleaned_text'):\n",
    "  for index, row in dataframe.iterrows():                       # iterate the rows of the dataframe\n",
    "    senti_score = senti.polarity_scores(str(row[textcolumn]))   # get the sentiment scores\n",
    "    dataframe.loc[index, 'neg'] = senti_score['neg']             # append the negative score\n",
    "    dataframe.loc[index, 'neu'] = senti_score['neu']             # append the neutral score\n",
    "    dataframe.loc[index, 'pos'] = senti_score['pos']             # append the positive score\n",
    "    dataframe.loc[index, 'compound'] = senti_score['compound']   # append the compound score\n",
    "  return dataframe\n",
    "\n",
    "text = pd.read_csv('media-lda-terms.csv')\n",
    "\n",
    "senti_text = sentiment_analysis(text,textcolumn='cleaned_text')\n",
    "senti_text[['text', 'neg', 'neu', 'pos', 'compound']].head()\n"
   ]
  },
  {
   "cell_type": "code",
   "execution_count": 16,
   "metadata": {},
   "outputs": [],
   "source": [
    "import matplotlib.pyplot as plt \n",
    "\n",
    "from transformers import pipeline\n",
    "from tqdm import tqdm \n",
    "tqdm.pandas()"
   ]
  },
  {
   "cell_type": "code",
   "execution_count": null,
   "metadata": {},
   "outputs": [],
   "source": [
    "sentiment_analyzer = pipeline('sentiment-analysis', \n",
    "                              model='nlptown/bert-base-multilingual-uncased-sentiment', \n",
    "                              device=0)"
   ]
  }
 ],
 "metadata": {
  "kernelspec": {
   "display_name": "nlp-env",
   "language": "python",
   "name": "python3"
  },
  "language_info": {
   "codemirror_mode": {
    "name": "ipython",
    "version": 3
   },
   "file_extension": ".py",
   "mimetype": "text/x-python",
   "name": "python",
   "nbconvert_exporter": "python",
   "pygments_lexer": "ipython3",
   "version": "3.11.4"
  }
 },
 "nbformat": 4,
 "nbformat_minor": 2
}
