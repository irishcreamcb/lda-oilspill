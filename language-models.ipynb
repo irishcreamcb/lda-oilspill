{
 "cells": [
  {
   "cell_type": "markdown",
   "metadata": {},
   "source": [
    "# TERM-FREQUENCY"
   ]
  },
  {
   "cell_type": "code",
   "execution_count": 6,
   "metadata": {},
   "outputs": [
    {
     "name": "stdout",
     "output_type": "stream",
     "text": [
      "(49, 4)\n"
     ]
    }
   ],
   "source": [
    "import pandas as pd \n",
    "corpus = pd.read_excel('rappler_corpus.xlsx')\n",
    "print(corpus.shape)"
   ]
  },
  {
   "cell_type": "markdown",
   "metadata": {},
   "source": [
    "Preprocessing Step"
   ]
  },
  {
   "cell_type": "code",
   "execution_count": 2,
   "metadata": {},
   "outputs": [
    {
     "name": "stderr",
     "output_type": "stream",
     "text": [
      "[nltk_data] Downloading package stopwords to\n",
      "[nltk_data]     C:\\Users\\Noah\\AppData\\Roaming\\nltk_data...\n",
      "[nltk_data]   Package stopwords is already up-to-date!\n",
      "[nltk_data] Downloading package wordnet to\n",
      "[nltk_data]     C:\\Users\\Noah\\AppData\\Roaming\\nltk_data...\n",
      "[nltk_data]   Package wordnet is already up-to-date!\n"
     ]
    },
    {
     "data": {
      "text/plain": [
       "True"
      ]
     },
     "execution_count": 2,
     "metadata": {},
     "output_type": "execute_result"
    }
   ],
   "source": [
    "import nltk \n",
    "from nltk.corpus import stopwords\n",
    "from nltk.stem import WordNetLemmatizer\n",
    "from nltk.stem import PorterStemmer\n",
    "nltk.download('stopwords') \n",
    "nltk.download('wordnet') "
   ]
  },
  {
   "cell_type": "code",
   "execution_count": 3,
   "metadata": {},
   "outputs": [],
   "source": [
    "basic_stopwords = ['a', 'am', 'and'] \n",
    "custom_stopwords = ['alice', 'guo'] "
   ]
  },
  {
   "cell_type": "code",
   "execution_count": 4,
   "metadata": {},
   "outputs": [],
   "source": [
    "lemmatizer = WordNetLemmatizer()\n",
    "stemmer = PorterStemmer() \n",
    "\n",
    "def preprocess_text(df, text_column='text'): \n",
    "    ''' preprocess text by lowercasing, stemming/lemmatizing '''\n",
    "\n",
    "    # lowercase\n",
    "    df['cleaned_text'] = df[text_column].str.lower() \n",
    "\n",
    "    # lemmatizer \n",
    "    # df['cleaned_text'] = df['cleaned_text'].apply(\n",
    "    #     lambda text: ' '.join([\n",
    "    #         lemmatizer.lemmatize(word, 'n') for word in text.split() \n",
    "    #     ])\n",
    "    # )\n",
    "\n",
    "    # stemmer\n",
    "    df['cleaned_text'] = df['cleaned_text'].apply(\n",
    "        lambda text: ' '.join([\n",
    "            stemmer.stem(word) for word in text.split() \n",
    "        ])\n",
    "    )\n",
    "\n",
    "    # remove stopwords\n",
    "    df['cleaned_text'] = df['cleaned_text'].apply(\n",
    "        lambda text: ' '.join([\n",
    "            word for word in text.split() if word not in stopwords.words('english')\n",
    "        ])\n",
    "    )\n",
    "\n",
    "    df['cleaned_text'] = df['cleaned_text'].apply(\n",
    "        lambda text: ' '.join([\n",
    "            word for word in text.split() if word not in basic_stopwords\n",
    "        ])\n",
    "    )\n",
    "\n",
    "    df['cleaned_text'] = df['cleaned_text'].apply(\n",
    "        lambda text: ' '.join([\n",
    "            word for word in text.split() if word not in custom_stopwords\n",
    "        ])\n",
    "    )\n",
    "\n",
    "    return df "
   ]
  },
  {
   "cell_type": "code",
   "execution_count": 9,
   "metadata": {},
   "outputs": [],
   "source": [
    "corpus = preprocess_text(corpus, text_column='text')"
   ]
  },
  {
   "cell_type": "code",
   "execution_count": 12,
   "metadata": {},
   "outputs": [
    {
     "data": {
      "text/html": [
       "<div>\n",
       "<style scoped>\n",
       "    .dataframe tbody tr th:only-of-type {\n",
       "        vertical-align: middle;\n",
       "    }\n",
       "\n",
       "    .dataframe tbody tr th {\n",
       "        vertical-align: top;\n",
       "    }\n",
       "\n",
       "    .dataframe thead th {\n",
       "        text-align: right;\n",
       "    }\n",
       "</style>\n",
       "<table border=\"1\" class=\"dataframe\">\n",
       "  <thead>\n",
       "    <tr style=\"text-align: right;\">\n",
       "      <th></th>\n",
       "      <th>000</th>\n",
       "      <th>04</th>\n",
       "      <th>09</th>\n",
       "      <th>10</th>\n",
       "      <th>100</th>\n",
       "      <th>11</th>\n",
       "      <th>117</th>\n",
       "      <th>11959</th>\n",
       "      <th>1197</th>\n",
       "      <th>11983</th>\n",
       "      <th>...</th>\n",
       "      <th>zhang</th>\n",
       "      <th>zhao</th>\n",
       "      <th>zhengcan</th>\n",
       "      <th>zhijiang</th>\n",
       "      <th>zhiyang</th>\n",
       "      <th>zhong</th>\n",
       "      <th>zia</th>\n",
       "      <th>zone</th>\n",
       "      <th>zones</th>\n",
       "      <th>zun</th>\n",
       "    </tr>\n",
       "  </thead>\n",
       "  <tbody>\n",
       "    <tr>\n",
       "      <th>0</th>\n",
       "      <td>0</td>\n",
       "      <td>0</td>\n",
       "      <td>0</td>\n",
       "      <td>0</td>\n",
       "      <td>0</td>\n",
       "      <td>0</td>\n",
       "      <td>0</td>\n",
       "      <td>0</td>\n",
       "      <td>0</td>\n",
       "      <td>0</td>\n",
       "      <td>...</td>\n",
       "      <td>0</td>\n",
       "      <td>0</td>\n",
       "      <td>0</td>\n",
       "      <td>0</td>\n",
       "      <td>0</td>\n",
       "      <td>0</td>\n",
       "      <td>0</td>\n",
       "      <td>0</td>\n",
       "      <td>0</td>\n",
       "      <td>0</td>\n",
       "    </tr>\n",
       "    <tr>\n",
       "      <th>1</th>\n",
       "      <td>0</td>\n",
       "      <td>0</td>\n",
       "      <td>0</td>\n",
       "      <td>0</td>\n",
       "      <td>0</td>\n",
       "      <td>0</td>\n",
       "      <td>0</td>\n",
       "      <td>0</td>\n",
       "      <td>0</td>\n",
       "      <td>0</td>\n",
       "      <td>...</td>\n",
       "      <td>0</td>\n",
       "      <td>0</td>\n",
       "      <td>0</td>\n",
       "      <td>0</td>\n",
       "      <td>0</td>\n",
       "      <td>0</td>\n",
       "      <td>0</td>\n",
       "      <td>0</td>\n",
       "      <td>0</td>\n",
       "      <td>0</td>\n",
       "    </tr>\n",
       "    <tr>\n",
       "      <th>2</th>\n",
       "      <td>0</td>\n",
       "      <td>0</td>\n",
       "      <td>0</td>\n",
       "      <td>0</td>\n",
       "      <td>0</td>\n",
       "      <td>0</td>\n",
       "      <td>0</td>\n",
       "      <td>0</td>\n",
       "      <td>0</td>\n",
       "      <td>0</td>\n",
       "      <td>...</td>\n",
       "      <td>1</td>\n",
       "      <td>0</td>\n",
       "      <td>0</td>\n",
       "      <td>0</td>\n",
       "      <td>0</td>\n",
       "      <td>0</td>\n",
       "      <td>0</td>\n",
       "      <td>0</td>\n",
       "      <td>0</td>\n",
       "      <td>0</td>\n",
       "    </tr>\n",
       "    <tr>\n",
       "      <th>3</th>\n",
       "      <td>0</td>\n",
       "      <td>0</td>\n",
       "      <td>0</td>\n",
       "      <td>2</td>\n",
       "      <td>0</td>\n",
       "      <td>0</td>\n",
       "      <td>0</td>\n",
       "      <td>0</td>\n",
       "      <td>0</td>\n",
       "      <td>0</td>\n",
       "      <td>...</td>\n",
       "      <td>0</td>\n",
       "      <td>0</td>\n",
       "      <td>0</td>\n",
       "      <td>0</td>\n",
       "      <td>0</td>\n",
       "      <td>0</td>\n",
       "      <td>0</td>\n",
       "      <td>0</td>\n",
       "      <td>0</td>\n",
       "      <td>1</td>\n",
       "    </tr>\n",
       "    <tr>\n",
       "      <th>4</th>\n",
       "      <td>0</td>\n",
       "      <td>0</td>\n",
       "      <td>0</td>\n",
       "      <td>0</td>\n",
       "      <td>0</td>\n",
       "      <td>0</td>\n",
       "      <td>0</td>\n",
       "      <td>0</td>\n",
       "      <td>0</td>\n",
       "      <td>0</td>\n",
       "      <td>...</td>\n",
       "      <td>0</td>\n",
       "      <td>0</td>\n",
       "      <td>0</td>\n",
       "      <td>0</td>\n",
       "      <td>0</td>\n",
       "      <td>0</td>\n",
       "      <td>0</td>\n",
       "      <td>0</td>\n",
       "      <td>0</td>\n",
       "      <td>0</td>\n",
       "    </tr>\n",
       "  </tbody>\n",
       "</table>\n",
       "<p>5 rows × 4445 columns</p>\n",
       "</div>"
      ],
      "text/plain": [
       "   000  04  09  10  100  11  117  11959  1197  11983  ...  zhang  zhao  \\\n",
       "0    0   0   0   0    0   0    0      0     0      0  ...      0     0   \n",
       "1    0   0   0   0    0   0    0      0     0      0  ...      0     0   \n",
       "2    0   0   0   0    0   0    0      0     0      0  ...      1     0   \n",
       "3    0   0   0   2    0   0    0      0     0      0  ...      0     0   \n",
       "4    0   0   0   0    0   0    0      0     0      0  ...      0     0   \n",
       "\n",
       "   zhengcan  zhijiang  zhiyang  zhong  zia  zone  zones  zun  \n",
       "0         0         0        0      0    0     0      0    0  \n",
       "1         0         0        0      0    0     0      0    0  \n",
       "2         0         0        0      0    0     0      0    0  \n",
       "3         0         0        0      0    0     0      0    1  \n",
       "4         0         0        0      0    0     0      0    0  \n",
       "\n",
       "[5 rows x 4445 columns]"
      ]
     },
     "execution_count": 12,
     "metadata": {},
     "output_type": "execute_result"
    }
   ],
   "source": [
    "from sklearn.feature_extraction.text import CountVectorizer\n",
    "\n",
    "vectorizer = CountVectorizer(ngram_range=(1,1))\n",
    "matrix = vectorizer.fit_transform(corpus['cleaned_text'])\n",
    "doc2vec = pd.DataFrame(matrix.toarray())\n",
    "\n",
    "# better readability \n",
    "doc2vec.columns = vectorizer.get_feature_names_out()\n",
    "doc2vec.head()"
   ]
  },
  {
   "cell_type": "markdown",
   "metadata": {},
   "source": [
    "CBOW"
   ]
  },
  {
   "cell_type": "code",
   "execution_count": 14,
   "metadata": {},
   "outputs": [],
   "source": [
    "def top_n_grams(document, n=10): \n",
    "    return document.sort_values(ascending=False).index[:n].tolist()"
   ]
  },
  {
   "cell_type": "code",
   "execution_count": 16,
   "metadata": {},
   "outputs": [],
   "source": [
    "most_frequent_terms_bow = doc2vec.apply(lambda document: \n",
    "                                        top_n_grams(document, n=5), \n",
    "                                        axis=1,)"
   ]
  },
  {
   "cell_type": "markdown",
   "metadata": {},
   "source": [
    "TF-IDF"
   ]
  },
  {
   "cell_type": "code",
   "execution_count": 27,
   "metadata": {},
   "outputs": [],
   "source": [
    "from sklearn.feature_extraction.text import TfidfVectorizer\n",
    "tfidfvectorizer = TfidfVectorizer(ngram_range=(1,1))\n",
    "tfidfmatrix = tfidfvectorizer.fit_transform(corpus['cleaned_text'])\n",
    "\n",
    "doc2tfidf = pd.DataFrame(\n",
    "    tfidfmatrix.toarray(), \n",
    "    columns=tfidfvectorizer.get_feature_names_out(),\n",
    "    )\n",
    "\n",
    "most_frequent_terms_tfidf = doc2tfidf.apply(lambda document: \n",
    "                                      top_n_grams(document, n=5), \n",
    "                                      axis=1,)"
   ]
  },
  {
   "cell_type": "markdown",
   "metadata": {},
   "source": [
    "## STATIC EMBEDDING"
   ]
  },
  {
   "cell_type": "code",
   "execution_count": 28,
   "metadata": {},
   "outputs": [],
   "source": [
    "import gensim"
   ]
  },
  {
   "cell_type": "code",
   "execution_count": 69,
   "metadata": {},
   "outputs": [],
   "source": [
    "corpus['tokenized'] = corpus['cleaned_text'].apply(\n",
    "    lambda text: [word for word in text.split()]\n",
    "    )\n",
    "model = gensim.models.Word2Vec(corpus['tokenized'], \n",
    "                               vector_size=150,\n",
    "                               min_count=2, \n",
    "                               sg=0,\n",
    "                               window=5, \n",
    "                               workers=4, \n",
    "                               epochs=10,)\n",
    "model.save('initial_model.model')\n"
   ]
  },
  {
   "cell_type": "code",
   "execution_count": 70,
   "metadata": {},
   "outputs": [
    {
     "data": {
      "text/plain": [
       "2578"
      ]
     },
     "execution_count": 70,
     "metadata": {},
     "output_type": "execute_result"
    }
   ],
   "source": [
    "vectors = model.wv\n",
    "len(vectors)"
   ]
  },
  {
   "cell_type": "code",
   "execution_count": 71,
   "metadata": {},
   "outputs": [
    {
     "data": {
      "text/plain": [
       "['wa', 'said', 'pogo', 'philippin', 'game']"
      ]
     },
     "execution_count": 71,
     "metadata": {},
     "output_type": "execute_result"
    }
   ],
   "source": [
    "vectors.index_to_key[:5]"
   ]
  },
  {
   "cell_type": "code",
   "execution_count": 72,
   "metadata": {},
   "outputs": [
    {
     "data": {
      "text/plain": [
       "array([ 9.36501659e-03, -6.70035705e-02, -1.38241068e-01,  3.57061997e-02,\n",
       "        3.16103958e-02, -1.31159127e-01, -7.32315704e-02,  4.31566387e-01,\n",
       "       -8.24652333e-03,  1.09128915e-01,  8.57544467e-02,  2.70641558e-02,\n",
       "       -2.14029476e-01,  1.52771503e-01, -1.90547481e-01, -1.44094452e-01,\n",
       "        1.45216033e-01, -1.08758613e-01,  7.59076849e-02,  1.61128134e-01,\n",
       "       -2.23265499e-01,  4.65064682e-03,  1.80341274e-01,  9.46553946e-02,\n",
       "        1.96718916e-01,  3.30031104e-02, -2.83150524e-01, -1.53428257e-01,\n",
       "       -7.00055733e-02, -3.27128232e-01,  5.54838777e-03, -3.61143192e-03,\n",
       "       -2.64255833e-02, -1.54611260e-01, -8.16350356e-02,  7.86839053e-02,\n",
       "        2.64674515e-01,  1.21125886e-02,  1.14776857e-01, -8.97906274e-02,\n",
       "       -7.18225390e-02,  5.46984933e-02, -1.64900005e-01, -1.93964422e-01,\n",
       "        1.31051034e-01,  2.99860239e-02,  4.45013866e-02, -4.63954583e-02,\n",
       "        9.50580910e-02,  1.86823085e-01, -1.08705737e-01,  1.59671545e-01,\n",
       "       -1.50613427e-01, -5.35794310e-02,  7.04723643e-04,  2.19648868e-01,\n",
       "        2.88702082e-02,  3.26780081e-02,  5.22182975e-03, -1.55076059e-03,\n",
       "       -1.27672534e-02, -2.55611479e-01, -8.51942077e-02, -5.19795865e-02,\n",
       "        1.65669993e-01, -1.12672687e-01, -7.26031065e-02, -3.22885603e-01,\n",
       "       -3.02920491e-01, -1.78905457e-01,  1.62307471e-01,  2.18354896e-01,\n",
       "        1.90995023e-01, -2.52294809e-01, -5.52586392e-02, -4.88140360e-02,\n",
       "       -1.24010526e-01,  3.32257070e-04, -2.24541366e-01,  2.27326930e-01,\n",
       "        4.52174991e-02, -2.42823422e-01, -6.66628405e-02,  5.74799359e-01,\n",
       "       -1.14363492e-01,  5.13168126e-02, -9.95607004e-02,  3.04090697e-02,\n",
       "        3.17077130e-01, -1.81578919e-01,  2.43018717e-01, -2.28884563e-01,\n",
       "        1.90536510e-02,  7.96602573e-03,  1.90540269e-01,  1.53670609e-02,\n",
       "        1.92163825e-01,  2.74148844e-02, -1.42007962e-01,  3.95344555e-01,\n",
       "       -2.17251349e-02, -9.37075540e-03,  2.31375813e-01,  4.64910939e-02,\n",
       "       -1.64896563e-01, -2.54035711e-01,  2.19199061e-01,  1.26099259e-01,\n",
       "       -4.54478145e-01, -4.33395654e-02, -1.02044530e-01, -6.21654727e-02,\n",
       "        5.99644659e-03, -3.95480514e-04, -8.13925117e-02,  1.40930742e-01,\n",
       "        1.02493584e-01,  1.05008706e-01, -3.79633047e-02, -2.05837041e-01,\n",
       "       -3.58951539e-02,  1.71626687e-01,  1.36586919e-01, -8.63722339e-02,\n",
       "        9.89359319e-02,  2.28362098e-01,  2.01580346e-01, -1.60430461e-01,\n",
       "       -1.76073775e-01,  2.02352226e-01,  2.22439438e-01,  2.28731453e-01,\n",
       "        1.01267472e-02, -1.84449494e-01,  1.13238126e-01,  1.24222495e-01,\n",
       "       -2.99395770e-01,  2.13696938e-02, -1.92726389e-01, -3.35608795e-02,\n",
       "        5.92160411e-02,  2.46676542e-02,  1.23644650e-01,  1.26428053e-01,\n",
       "        2.86247671e-01,  1.83878809e-01, -2.65603542e-01, -1.71540558e-01,\n",
       "        2.55228758e-01, -2.75109082e-01], dtype=float32)"
      ]
     },
     "execution_count": 72,
     "metadata": {},
     "output_type": "execute_result"
    }
   ],
   "source": [
    "vectors['manila']"
   ]
  },
  {
   "cell_type": "code",
   "execution_count": 74,
   "metadata": {},
   "outputs": [
    {
     "data": {
      "text/plain": [
       "[('game', 0.9997929334640503),\n",
       " ('oper', 0.9997773170471191),\n",
       " ('ban', 0.9996817111968994),\n",
       " ('pogo', 0.9996618032455444),\n",
       " ('corpor', 0.9996564388275146)]"
      ]
     },
     "execution_count": 74,
     "metadata": {},
     "output_type": "execute_result"
    }
   ],
   "source": [
    "vectors.similarity('manila', 'philippin') \n",
    "vectors.most_similar('philippin', topn=5)"
   ]
  },
  {
   "cell_type": "code",
   "execution_count": 75,
   "metadata": {},
   "outputs": [
    {
     "data": {
      "text/plain": [
       "[('gadget', 0.04686755686998367),\n",
       " ('police’', 0.04579053446650505),\n",
       " ('16', 0.04013141244649887),\n",
       " ('mind', 0.03895144909620285),\n",
       " ('inde', 0.0385131798684597)]"
      ]
     },
     "execution_count": 75,
     "metadata": {},
     "output_type": "execute_result"
    }
   ],
   "source": [
    "vectors.most_similar(positive=['manila'], negative=['philippin'], topn=5)"
   ]
  },
  {
   "cell_type": "code",
   "execution_count": 76,
   "metadata": {},
   "outputs": [],
   "source": [
    "import seaborn as sns \n",
    "import matplotlib as plt \n",
    "from sklearn.decomposition import PCA"
   ]
  },
  {
   "cell_type": "code",
   "execution_count": 92,
   "metadata": {},
   "outputs": [],
   "source": [
    "word_set1 = [\n",
    "    vectors.most_similar('pogo', topn=5)[idx][0] for idx in range(5) \n",
    "]\n",
    "word_set2 = [\n",
    "    vectors.most_similar('roqu', topn=5)[idx][0] for idx in range(5) \n",
    "]"
   ]
  },
  {
   "cell_type": "code",
   "execution_count": 93,
   "metadata": {},
   "outputs": [],
   "source": [
    "words_to_visualization = word_set1 + word_set2\n",
    "vectors_to_visualization = [\n",
    "    vectors[word] for word in words_to_visualization\n",
    "]"
   ]
  },
  {
   "cell_type": "code",
   "execution_count": 84,
   "metadata": {},
   "outputs": [],
   "source": [
    "pca = PCA(n_components=2) \n",
    "vectors_2dspace = pca.fit_transform(vectors_to_visualization)"
   ]
  },
  {
   "cell_type": "code",
   "execution_count": 94,
   "metadata": {},
   "outputs": [],
   "source": [
    "vectors_PCA_df = pd.DataFrame(\n",
    "    columns=['word', 'association_value', 'PCA1', 'PCA2']\n",
    ")\n",
    "\n",
    "for index in range(len(words_to_visualization)): \n",
    "    word = words_to_visualization[index]\n",
    "    association = 'pogo' if word in word_set1 else 'roqu'\n",
    "    PCA1 = vectors_2dspace[index][0] \n",
    "    PCA2 = vectors_2dspace[index][1] \n",
    "\n",
    "    newrow = ['word', 'association', 'PCA1', 'PCA2']\n",
    "\n",
    "    vectors_PCA_df.loc[index] = newrow "
   ]
  },
  {
   "cell_type": "code",
   "execution_count": 87,
   "metadata": {},
   "outputs": [
    {
     "data": {
      "text/plain": [
       "'wa'"
      ]
     },
     "execution_count": 87,
     "metadata": {},
     "output_type": "execute_result"
    }
   ],
   "source": [
    "words_to_visualization[0]"
   ]
  },
  {
   "cell_type": "code",
   "execution_count": 97,
   "metadata": {},
   "outputs": [
    {
     "ename": "TypeError",
     "evalue": "unsupported operand type(s) for -: 'str' and 'float'",
     "output_type": "error",
     "traceback": [
      "\u001b[1;31m---------------------------------------------------------------------------\u001b[0m",
      "\u001b[1;31mTypeError\u001b[0m                                 Traceback (most recent call last)",
      "Cell \u001b[1;32mIn[97], line 10\u001b[0m\n\u001b[0;32m      1\u001b[0m vectors_visualization \u001b[38;5;241m=\u001b[39m sns\u001b[38;5;241m.\u001b[39mscatterplot(\n\u001b[0;32m      2\u001b[0m     data\u001b[38;5;241m=\u001b[39mvectors_PCA_df, \n\u001b[0;32m      3\u001b[0m     x\u001b[38;5;241m=\u001b[39m\u001b[38;5;124m'\u001b[39m\u001b[38;5;124mPCA1\u001b[39m\u001b[38;5;124m'\u001b[39m, \n\u001b[0;32m      4\u001b[0m     y\u001b[38;5;241m=\u001b[39m\u001b[38;5;124m'\u001b[39m\u001b[38;5;124mPCA2\u001b[39m\u001b[38;5;124m'\u001b[39m, \n\u001b[0;32m      5\u001b[0m     hue\u001b[38;5;241m=\u001b[39m\u001b[38;5;124m'\u001b[39m\u001b[38;5;124massociation_value\u001b[39m\u001b[38;5;124m'\u001b[39m, \n\u001b[0;32m      6\u001b[0m )\n\u001b[0;32m      8\u001b[0m \u001b[38;5;28;01mfor\u001b[39;00m index \u001b[38;5;129;01min\u001b[39;00m \u001b[38;5;28mrange\u001b[39m(\u001b[38;5;28mlen\u001b[39m(vectors_PCA_df)): \n\u001b[0;32m      9\u001b[0m     vectors_visualization\u001b[38;5;241m.\u001b[39mtext(\n\u001b[1;32m---> 10\u001b[0m         \u001b[43mvectors_PCA_df\u001b[49m\u001b[38;5;241;43m.\u001b[39;49m\u001b[43mPCA1\u001b[49m\u001b[43m[\u001b[49m\u001b[43mindex\u001b[49m\u001b[43m]\u001b[49m\u001b[38;5;241;43m-\u001b[39;49m\u001b[38;5;241;43m0.01\u001b[39;49m,\n\u001b[0;32m     11\u001b[0m         vectors_PCA_df\u001b[38;5;241m.\u001b[39mPCA2[index], \n\u001b[0;32m     12\u001b[0m         vectors_PCA_df\u001b[38;5;241m.\u001b[39mword[index],\n\u001b[0;32m     13\u001b[0m         horizontalalignment\u001b[38;5;241m=\u001b[39m\u001b[38;5;124m'\u001b[39m\u001b[38;5;124mcenter\u001b[39m\u001b[38;5;124m'\u001b[39m,  \n\u001b[0;32m     14\u001b[0m     )\n",
      "\u001b[1;31mTypeError\u001b[0m: unsupported operand type(s) for -: 'str' and 'float'"
     ]
    },
    {
     "data": {
      "image/png": "[encoded data removed]",
      "text/plain": [
       "<Figure size 640x480 with 1 Axes>"
      ]
     },
     "metadata": {},
     "output_type": "display_data"
    }
   ],
   "source": [
    "vectors_visualization = sns.scatterplot(\n",
    "    data=vectors_PCA_df, \n",
    "    x='PCA1', \n",
    "    y='PCA2', \n",
    "    hue='association_value', \n",
    ")\n",
    "\n",
    "for index in range(len(vectors_PCA_df)): \n",
    "    vectors_visualization.text(\n",
    "        vectors_PCA_df.PCA1[index]-0.01,\n",
    "        vectors_PCA_df.PCA2[index], \n",
    "        vectors_PCA_df.word[index],\n",
    "        horizontalalignment='center',  \n",
    "    )"
   ]
  }
 ],
 "metadata": {
  "kernelspec": {
   "display_name": "nlp-env",
   "language": "python",
   "name": "python3"
  },
  "language_info": {
   "codemirror_mode": {
    "name": "ipython",
    "version": 3
   },
   "file_extension": ".py",
   "mimetype": "text/x-python",
   "name": "python",
   "nbconvert_exporter": "python",
   "pygments_lexer": "ipython3",
   "version": "3.11.4"
  }
 },
 "nbformat": 4,
 "nbformat_minor": 2
}
